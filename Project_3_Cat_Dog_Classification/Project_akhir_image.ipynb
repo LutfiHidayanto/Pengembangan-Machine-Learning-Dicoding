{
  "nbformat": 4,
  "nbformat_minor": 0,
  "metadata": {
    "colab": {
      "provenance": [],
      "gpuType": "T4"
    },
    "kernelspec": {
      "name": "python3",
      "display_name": "Python 3"
    },
    "language_info": {
      "name": "python"
    },
    "accelerator": "GPU"
  },
  "cells": [
    {
      "cell_type": "code",
      "source": [
        "# Nama: Hajid Lutfi Hidayanto\n",
        "# Email: hajidlutfi@gmail.com\n",
        "# Asal: Kulon Progo\n",
        "# Domisili: Surakarta\n",
        "\n",
        "# Link dataset: https://www.kaggle.com/datasets/d4rklucif3r/cat-and-dogs/data"
      ],
      "metadata": {
        "id": "PD4HohPNoTBp"
      },
      "execution_count": null,
      "outputs": []
    },
    {
      "cell_type": "code",
      "execution_count": 13,
      "metadata": {
        "id": "3HXM6KEgD7gE"
      },
      "outputs": [],
      "source": [
        "# import library yang dibutuhkan\n",
        "from sklearn.model_selection import train_test_split\n",
        "from google.colab import drive\n",
        "import pandas as pd\n",
        "import numpy as np\n",
        "import matplotlib.pyplot as plt\n",
        "import tensorflow as tf\n",
        "import zipfile,os,shutil\n",
        "from tensorflow.keras.preprocessing.image import ImageDataGenerator\n",
        "from tensorflow.keras.applications import VGG16\n",
        "from PIL import Image\n",
        "import os\n",
        "import pathlib"
      ]
    },
    {
      "cell_type": "code",
      "source": [
        "# mount/load google drive\n",
        "drive.mount('/content/drive')"
      ],
      "metadata": {
        "colab": {
          "base_uri": "https://localhost:8080/"
        },
        "id": "E4b-pCF-ENjB",
        "outputId": "6ab8618e-e605-448f-f817-f2794eb19828"
      },
      "execution_count": 2,
      "outputs": [
        {
          "output_type": "stream",
          "name": "stdout",
          "text": [
            "Mounted at /content/drive\n"
          ]
        }
      ]
    },
    {
      "cell_type": "code",
      "source": [
        "# melakukan ekstraksi pada file zip\n",
        "zip_file_path = '/content/drive/MyDrive/Datasets/catDog.zip'\n",
        "extract_path = '/content'\n",
        "\n",
        "os.makedirs(extract_path, exist_ok=True)\n",
        "\n",
        "with zipfile.ZipFile(zip_file_path, 'r') as zip_ref:\n",
        "    zip_ref.extractall(extract_path)"
      ],
      "metadata": {
        "id": "xwSovi9CmAU6"
      },
      "execution_count": 3,
      "outputs": []
    },
    {
      "cell_type": "code",
      "source": [
        "# menghitung gambar dengan dimensi berbeda di directory test_set/cats\n",
        "directory = '/content/dataset/test_set/cats'\n",
        "\n",
        "dimension_count = {}\n",
        "\n",
        "for filename in os.listdir(directory):\n",
        "    if filename.endswith(\".jpg\") or filename.endswith(\".png\"):\n",
        "        filepath = os.path.join(directory, filename)\n",
        "        with Image.open(filepath) as img:\n",
        "            width, height = img.size\n",
        "            dimensions = (width, height)\n",
        "\n",
        "            if dimensions in dimension_count:\n",
        "                dimension_count[dimensions] += 1\n",
        "            else:\n",
        "                dimension_count[dimensions] = 1\n",
        "\n",
        "if len(dimension_count) > 1:\n",
        "    print(f'Ada {len(dimension_count)} gambar yang berbeda dimensi')\n"
      ],
      "metadata": {
        "id": "XQ6hJIZbm-Uz",
        "colab": {
          "base_uri": "https://localhost:8080/"
        },
        "outputId": "e93fc908-7ef7-45b2-c4ee-cd01f511418c"
      },
      "execution_count": 4,
      "outputs": [
        {
          "output_type": "stream",
          "name": "stdout",
          "text": [
            "Ada 582 gambar yang berbeda dimensi\n"
          ]
        }
      ]
    },
    {
      "cell_type": "code",
      "source": [
        "train_dir = '/content/dataset/training_set'\n",
        "test_dir = '/content/dataset/test_set'\n",
        "\n",
        "# Menghitung jumlah sampel data\n",
        "train_len = len(os.listdir(train_dir + '/cats')) + len(os.listdir(train_dir + '/dogs'))\n",
        "test_len = len(os.listdir(test_dir + '/cats')) + len(os.listdir(test_dir + '/dogs'))\n",
        "print(f\"Jumlah sample dataset\\nTrain: {train_len}\\nTest: {test_len}\\nTotal: {train_len + test_len}\")"
      ],
      "metadata": {
        "id": "FeY1x9KvQ1cV",
        "colab": {
          "base_uri": "https://localhost:8080/"
        },
        "outputId": "431d953b-504d-4cc8-bb55-b494475b6f0e"
      },
      "execution_count": 5,
      "outputs": [
        {
          "output_type": "stream",
          "name": "stdout",
          "text": [
            "Jumlah sample dataset\n",
            "Train: 8000\n",
            "Test: 2000\n",
            "Total: 10000\n"
          ]
        }
      ]
    },
    {
      "cell_type": "code",
      "source": [
        "# AUGMENTASI GAMBAR\n",
        "# augmentasi untuk train set\n",
        "train_datagen = ImageDataGenerator(\n",
        "    rescale=1./255,\n",
        "    rotation_range=20,\n",
        "    shear_range=0.2,\n",
        "    horizontal_flip=True,\n",
        "    fill_mode='nearest'\n",
        ")\n",
        "# untuk test set hanya rescale\n",
        "test_datagen = ImageDataGenerator(rescale=1./255)\n",
        "\n",
        "# generator loading gambar dari directory train\n",
        "train_generator = train_datagen.flow_from_directory(\n",
        "        train_dir,\n",
        "        target_size=(224, 224),\n",
        "        batch_size=64,\n",
        "        class_mode='binary')\n",
        "\n",
        "# generator loading gambar dari directory train\n",
        "val_generator = test_datagen.flow_from_directory(\n",
        "        test_dir,\n",
        "        target_size=(224, 224),\n",
        "        batch_size=64,\n",
        "        class_mode='binary')\n",
        "train_generator.class_indices"
      ],
      "metadata": {
        "id": "l_1Tej8LRMeL",
        "colab": {
          "base_uri": "https://localhost:8080/"
        },
        "outputId": "c140c2be-f050-4f74-c0bb-1766727a730e"
      },
      "execution_count": 6,
      "outputs": [
        {
          "output_type": "stream",
          "name": "stdout",
          "text": [
            "Found 8000 images belonging to 2 classes.\n",
            "Found 2000 images belonging to 2 classes.\n"
          ]
        },
        {
          "output_type": "execute_result",
          "data": {
            "text/plain": [
              "{'cats': 0, 'dogs': 1}"
            ]
          },
          "metadata": {},
          "execution_count": 6
        }
      ]
    },
    {
      "cell_type": "code",
      "source": [
        "# MEMBUAT MODEL\n",
        "vgg_tl = VGG16(weights='imagenet', include_top=False, input_shape=(224, 224, 3))\n",
        "\n",
        "for layer in vgg_tl.layers:\n",
        "    layer.trainable = False\n",
        "\n",
        "model = tf.keras.models.Sequential([\n",
        "    # terdapat maxpoolling dan convolutional layers dalam vgg16\n",
        "    vgg_tl,\n",
        "    # Flatten layer\n",
        "    tf.keras.layers.Flatten(),\n",
        "    tf.keras.layers.Dense(256, activation='relu'),\n",
        "    # Dropout untuk regularization\n",
        "    tf.keras.layers.Dropout(0.3),\n",
        "\n",
        "    tf.keras.layers.Dense(256, activation='relu'),\n",
        "    # Dropout untuk regularization\n",
        "    tf.keras.layers.Dropout(0.3),\n",
        "    # Output layer\n",
        "    tf.keras.layers.Dense(1, activation='sigmoid')\n",
        "])\n",
        "\n",
        "model.summary()"
      ],
      "metadata": {
        "id": "juz08swOUEWZ",
        "colab": {
          "base_uri": "https://localhost:8080/"
        },
        "outputId": "e092ac44-1185-47cc-bf7c-a15e70d4b96c"
      },
      "execution_count": 7,
      "outputs": [
        {
          "output_type": "stream",
          "name": "stdout",
          "text": [
            "Downloading data from https://storage.googleapis.com/tensorflow/keras-applications/vgg16/vgg16_weights_tf_dim_ordering_tf_kernels_notop.h5\n",
            "58889256/58889256 [==============================] - 0s 0us/step\n",
            "Model: \"sequential\"\n",
            "_________________________________________________________________\n",
            " Layer (type)                Output Shape              Param #   \n",
            "=================================================================\n",
            " vgg16 (Functional)          (None, 7, 7, 512)         14714688  \n",
            "                                                                 \n",
            " flatten (Flatten)           (None, 25088)             0         \n",
            "                                                                 \n",
            " dense (Dense)               (None, 256)               6422784   \n",
            "                                                                 \n",
            " dropout (Dropout)           (None, 256)               0         \n",
            "                                                                 \n",
            " dense_1 (Dense)             (None, 256)               65792     \n",
            "                                                                 \n",
            " dropout_1 (Dropout)         (None, 256)               0         \n",
            "                                                                 \n",
            " dense_2 (Dense)             (None, 1)                 257       \n",
            "                                                                 \n",
            "=================================================================\n",
            "Total params: 21203521 (80.89 MB)\n",
            "Trainable params: 6488833 (24.75 MB)\n",
            "Non-trainable params: 14714688 (56.13 MB)\n",
            "_________________________________________________________________\n"
          ]
        }
      ]
    },
    {
      "cell_type": "code",
      "source": [
        "# COMPILE DAN MELATIH MODEL\n",
        "# Compile\n",
        "model.compile(optimizer=tf.keras.optimizers.Nadam(learning_rate=1.000e-5),\n",
        "              metrics=['accuracy'])"
      ],
      "metadata": {
        "id": "qNYm3mpkUmZK"
      },
      "execution_count": 8,
      "outputs": []
    },
    {
      "cell_type": "code",
      "source": [
        "class myCallback(tf.keras.callbacks.Callback):\n",
        "  def on_epoch_end(self, epoch, logs={}):\n",
        "    if(logs.get('accuracy') > 0.92 and logs.get('val_accuracy') > 0.92):\n",
        "      print(\"\\nAkurasi sudah di atas 92%!\")\n",
        "      self.model.stop_training = True\n",
        "\n",
        "callbacks = myCallback()"
      ],
      "metadata": {
        "id": "pm46iR4aU70y"
      },
      "execution_count": 9,
      "outputs": []
    },
    {
      "cell_type": "code",
      "source": [
        "# Melatih\n",
        "history = model.fit(\n",
        "    train_generator,\n",
        "    steps_per_epoch=train_generator.samples // train_generator.batch_size,\n",
        "    epochs=20,\n",
        "    validation_data=val_generator,\n",
        "    validation_steps=val_generator.samples // val_generator.batch_size,\n",
        "    verbose=2,\n",
        "    callbacks=[callbacks]\n",
        ")"
      ],
      "metadata": {
        "id": "CKVyMlo5UtoN",
        "colab": {
          "base_uri": "https://localhost:8080/"
        },
        "outputId": "2c82d7c4-6640-4303-bdaf-f6ee391f9ad9"
      },
      "execution_count": 10,
      "outputs": [
        {
          "output_type": "stream",
          "name": "stdout",
          "text": [
            "Epoch 1/20\n",
            "125/125 - 140s - loss: 0.6114 - accuracy: 0.6639 - val_loss: 0.4249 - val_accuracy: 0.8543 - 140s/epoch - 1s/step\n",
            "Epoch 2/20\n",
            "125/125 - 123s - loss: 0.4157 - accuracy: 0.8186 - val_loss: 0.3166 - val_accuracy: 0.8785 - 123s/epoch - 987ms/step\n",
            "Epoch 3/20\n",
            "125/125 - 123s - loss: 0.3360 - accuracy: 0.8597 - val_loss: 0.2713 - val_accuracy: 0.8901 - 123s/epoch - 987ms/step\n",
            "Epoch 4/20\n",
            "125/125 - 123s - loss: 0.3019 - accuracy: 0.8751 - val_loss: 0.2467 - val_accuracy: 0.8952 - 123s/epoch - 984ms/step\n",
            "Epoch 5/20\n",
            "125/125 - 124s - loss: 0.2731 - accuracy: 0.8881 - val_loss: 0.2290 - val_accuracy: 0.9057 - 124s/epoch - 992ms/step\n",
            "Epoch 6/20\n",
            "125/125 - 124s - loss: 0.2520 - accuracy: 0.8990 - val_loss: 0.2175 - val_accuracy: 0.9073 - 124s/epoch - 990ms/step\n",
            "Epoch 7/20\n",
            "125/125 - 125s - loss: 0.2412 - accuracy: 0.9019 - val_loss: 0.2094 - val_accuracy: 0.9123 - 125s/epoch - 1s/step\n",
            "Epoch 8/20\n",
            "125/125 - 123s - loss: 0.2243 - accuracy: 0.9091 - val_loss: 0.2027 - val_accuracy: 0.9123 - 123s/epoch - 987ms/step\n",
            "Epoch 9/20\n",
            "125/125 - 127s - loss: 0.2176 - accuracy: 0.9091 - val_loss: 0.1948 - val_accuracy: 0.9158 - 127s/epoch - 1s/step\n",
            "Epoch 10/20\n",
            "125/125 - 123s - loss: 0.2095 - accuracy: 0.9156 - val_loss: 0.1903 - val_accuracy: 0.9183 - 123s/epoch - 980ms/step\n",
            "Epoch 11/20\n",
            "125/125 - 124s - loss: 0.2002 - accuracy: 0.9186 - val_loss: 0.1872 - val_accuracy: 0.9204 - 124s/epoch - 994ms/step\n",
            "Epoch 12/20\n",
            "\n",
            "Akurasi sudah di atas 92%!\n",
            "125/125 - 125s - loss: 0.1958 - accuracy: 0.9200 - val_loss: 0.1816 - val_accuracy: 0.9209 - 125s/epoch - 998ms/step\n"
          ]
        }
      ]
    },
    {
      "cell_type": "code",
      "source": [
        "# Plot accuracy model\n",
        "plt.plot(history.history['accuracy'])\n",
        "plt.plot(history.history['val_accuracy'])\n",
        "plt.title('Model Accuracy')\n",
        "plt.xlabel('Epochs')\n",
        "plt.ylabel('Accuracy')\n",
        "plt.legend(['Train', 'Test'])\n",
        "plt.show()"
      ],
      "metadata": {
        "id": "GTE-KWB7nZLw",
        "colab": {
          "base_uri": "https://localhost:8080/",
          "height": 472
        },
        "outputId": "560afe88-da4d-4351-b783-b9519212aca1"
      },
      "execution_count": 11,
      "outputs": [
        {
          "output_type": "display_data",
          "data": {
            "text/plain": [
              "<Figure size 640x480 with 1 Axes>"
            ],
            "image/png": "[encoded data removed]"
          },
          "metadata": {}
        }
      ]
    },
    {
      "cell_type": "code",
      "source": [
        "# Plot loss model\n",
        "plt.plot(history.history['loss'])\n",
        "plt.plot(history.history['val_loss'])\n",
        "plt.title('Model Loss')\n",
        "plt.xlabel('Epochs')\n",
        "plt.ylabel('Loss')\n",
        "plt.legend(['Train', 'Test'])\n",
        "plt.show()"
      ],
      "metadata": {
        "id": "LRW3-VxfnkDZ",
        "colab": {
          "base_uri": "https://localhost:8080/",
          "height": 472
        },
        "outputId": "af37f150-d129-462f-c9eb-a10019aea770"
      },
      "execution_count": 12,
      "outputs": [
        {
          "output_type": "display_data",
          "data": {
            "text/plain": [
              "<Figure size 640x480 with 1 Axes>"
            ],
            "image/png": "[encoded data removed]"
          },
          "metadata": {}
        }
      ]
    },
    {
      "cell_type": "code",
      "source": [
        "# menyimpan model dalam format SavedModel\n",
        "export_dir = 'saved_model/'\n",
        "tf.saved_model.save(model, export_dir)\n",
        "\n",
        "# mengubah SavedModel menjadi tflite\n",
        "converter = tf.lite.TFLiteConverter.from_saved_model(export_dir)\n",
        "tflite_model = converter.convert()\n",
        "\n",
        "tflite_model_file = pathlib.Path('vegs.tflite')\n",
        "tflite_model_file.write_bytes(tflite_model)"
      ],
      "metadata": {
        "colab": {
          "base_uri": "https://localhost:8080/"
        },
        "id": "v8-zQcqKnvXz",
        "outputId": "edd7a267-d384-47ff-a892-f321489530c7"
      },
      "execution_count": 14,
      "outputs": [
        {
          "output_type": "execute_result",
          "data": {
            "text/plain": [
              "84824904"
            ]
          },
          "metadata": {},
          "execution_count": 14
        }
      ]
    }
  ]
}